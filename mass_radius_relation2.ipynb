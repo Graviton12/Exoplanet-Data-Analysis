{
 "cells": [
  {
   "cell_type": "markdown",
   "metadata": {},
   "source": [
    "# Mass Radius Relation 2\n",
    "### Using our filtered dataset with removed duplicates and removed outliers (Samia's Code + Inara's Code), we will be look verifying the relationship between planet's mass and planet's radius (size) that was found fron the orignal Mass and Radius Relation Jupyter Notebook file"
   ]
  },
  {
   "cell_type": "code",
   "execution_count": 47,
   "metadata": {},
   "outputs": [],
   "source": [
    "# Importing\n",
    "import numpy as np\n",
    "import pandas as pd\n",
    "import matplotlib.pyplot as plt\n",
    "import seaborn as sns"
   ]
  },
  {
   "cell_type": "code",
   "execution_count": 48,
   "metadata": {},
   "outputs": [],
   "source": [
    "# loading dataset\n",
    "dataset = pd.read_csv('filtered_exoplanet_dataset_removed_outliers.csv')"
   ]
  },
  {
   "cell_type": "code",
   "execution_count": 49,
   "metadata": {},
   "outputs": [
    {
     "data": {
      "text/plain": [
       "Index(['planet_name', 'host_star_name', 'orbital_period_day',\n",
       "       'orbit_semi_major_axis_au', 'planet_rad_earth_rad',\n",
       "       'planet_rad_jup_rad', 'planet_mass_earth_mass', 'planet_mass_jup_mass',\n",
       "       'Eccentricity', 'planet_equil_temp_k', 'spectral_type',\n",
       "       'stellar_effective_temp_k', 'stellar_rad_solar_rad',\n",
       "       'stellar_mass_solar_mass', 'distance_parsec', 'stellar_surf_grav',\n",
       "       'declination_deg', 'discovery_method'],\n",
       "      dtype='object')"
      ]
     },
     "execution_count": 49,
     "metadata": {},
     "output_type": "execute_result"
    }
   ],
   "source": [
    "dataset.columns"
   ]
  },
  {
   "cell_type": "code",
   "execution_count": 50,
   "metadata": {},
   "outputs": [],
   "source": [
    "# deleting columns that are not needed\n",
    "del dataset['host_star_name']\n",
    "del dataset['orbital_period_day']\n",
    "del dataset['orbit_semi_major_axis_au']\n",
    "del dataset['planet_mass_jup_mass']\n",
    "del dataset['Eccentricity']\n",
    "del dataset['planet_equil_temp_k']\n",
    "del dataset['spectral_type']\n",
    "del dataset['stellar_effective_temp_k']\n",
    "del dataset['stellar_rad_solar_rad']\n",
    "del dataset['stellar_mass_solar_mass']\n",
    "del dataset['distance_parsec']\n",
    "del dataset['stellar_surf_grav']\n",
    "del dataset['declination_deg']\n",
    "del dataset['discovery_method']\n",
    "del dataset['planet_rad_jup_rad']"
   ]
  },
  {
   "cell_type": "code",
   "execution_count": 51,
   "metadata": {},
   "outputs": [
    {
     "data": {
      "text/html": [
       "<div>\n",
       "<style scoped>\n",
       "    .dataframe tbody tr th:only-of-type {\n",
       "        vertical-align: middle;\n",
       "    }\n",
       "\n",
       "    .dataframe tbody tr th {\n",
       "        vertical-align: top;\n",
       "    }\n",
       "\n",
       "    .dataframe thead th {\n",
       "        text-align: right;\n",
       "    }\n",
       "</style>\n",
       "<table border=\"1\" class=\"dataframe\">\n",
       "  <thead>\n",
       "    <tr style=\"text-align: right;\">\n",
       "      <th></th>\n",
       "      <th>planet_name</th>\n",
       "      <th>planet_rad_earth_rad</th>\n",
       "      <th>planet_mass_earth_mass</th>\n",
       "    </tr>\n",
       "  </thead>\n",
       "  <tbody>\n",
       "    <tr>\n",
       "      <th>0</th>\n",
       "      <td>11 Com b</td>\n",
       "      <td>NaN</td>\n",
       "      <td>5505.066163</td>\n",
       "    </tr>\n",
       "    <tr>\n",
       "      <th>1</th>\n",
       "      <td>11 UMi b</td>\n",
       "      <td>NaN</td>\n",
       "      <td>3818.094733</td>\n",
       "    </tr>\n",
       "    <tr>\n",
       "      <th>2</th>\n",
       "      <td>14 And b</td>\n",
       "      <td>NaN</td>\n",
       "      <td>1224.550433</td>\n",
       "    </tr>\n",
       "    <tr>\n",
       "      <th>3</th>\n",
       "      <td>14 Her b</td>\n",
       "      <td>NaN</td>\n",
       "      <td>1642.383591</td>\n",
       "    </tr>\n",
       "    <tr>\n",
       "      <th>4</th>\n",
       "      <td>16 Cyg B b</td>\n",
       "      <td>NaN</td>\n",
       "      <td>533.514528</td>\n",
       "    </tr>\n",
       "    <tr>\n",
       "      <th>5</th>\n",
       "      <td>17 Sco b</td>\n",
       "      <td>NaN</td>\n",
       "      <td>1373.018720</td>\n",
       "    </tr>\n",
       "    <tr>\n",
       "      <th>6</th>\n",
       "      <td>18 Del b</td>\n",
       "      <td>NaN</td>\n",
       "      <td>3109.015380</td>\n",
       "    </tr>\n",
       "    <tr>\n",
       "      <th>7</th>\n",
       "      <td>1RXS J160929.1-210524 b</td>\n",
       "      <td>18.647</td>\n",
       "      <td>3135.750000</td>\n",
       "    </tr>\n",
       "    <tr>\n",
       "      <th>8</th>\n",
       "      <td>24 Boo b</td>\n",
       "      <td>NaN</td>\n",
       "      <td>284.933890</td>\n",
       "    </tr>\n",
       "    <tr>\n",
       "      <th>9</th>\n",
       "      <td>24 Sex b</td>\n",
       "      <td>NaN</td>\n",
       "      <td>632.460000</td>\n",
       "    </tr>\n",
       "  </tbody>\n",
       "</table>\n",
       "</div>"
      ],
      "text/plain": [
       "               planet_name  planet_rad_earth_rad  planet_mass_earth_mass\n",
       "0                 11 Com b                   NaN             5505.066163\n",
       "1                 11 UMi b                   NaN             3818.094733\n",
       "2                 14 And b                   NaN             1224.550433\n",
       "3                 14 Her b                   NaN             1642.383591\n",
       "4               16 Cyg B b                   NaN              533.514528\n",
       "5                 17 Sco b                   NaN             1373.018720\n",
       "6                 18 Del b                   NaN             3109.015380\n",
       "7  1RXS J160929.1-210524 b                18.647             3135.750000\n",
       "8                 24 Boo b                   NaN              284.933890\n",
       "9                 24 Sex b                   NaN              632.460000"
      ]
     },
     "execution_count": 51,
     "metadata": {},
     "output_type": "execute_result"
    }
   ],
   "source": [
    "dataset.head(10)"
   ]
  },
  {
   "cell_type": "code",
   "execution_count": 52,
   "metadata": {},
   "outputs": [],
   "source": [
    "# removing 5 exoplanets \n",
    "dataset = dataset[dataset.iloc[:,0] != 'NN Ser c']\n",
    "dataset = dataset[dataset.iloc[:,0] != 'NN Ser d']\n",
    "dataset = dataset[dataset.iloc[:,0] != 'CFBDSIR J145829+101343 b']\n",
    "dataset = dataset[dataset.iloc[:,0] != 'WISE J033605.05-014350.4 b']\n",
    "dataset = dataset[dataset.iloc[:,0] != 'WISEP J121756.91+162640.2 A b']"
   ]
  },
  {
   "cell_type": "code",
   "execution_count": 53,
   "metadata": {},
   "outputs": [
    {
     "data": {
      "text/plain": [
       "(5625, 3)"
      ]
     },
     "execution_count": 53,
     "metadata": {},
     "output_type": "execute_result"
    }
   ],
   "source": [
    "dataset.shape"
   ]
  },
  {
   "cell_type": "markdown",
   "metadata": {},
   "source": [
    "### Verifying our mass and radius relation"
   ]
  },
  {
   "cell_type": "code",
   "execution_count": 54,
   "metadata": {},
   "outputs": [],
   "source": [
    "# Earth like condtion \n",
    "earth_like_condition = (dataset['planet_rad_earth_rad'] <= 1.5) & (dataset['planet_mass_earth_mass'] >= 1) & (dataset['planet_mass_earth_mass'] < 2)\n",
    "\n",
    "# Super-Earth-Like exoplanet classification\n",
    "super_earth_like_condition = (dataset['planet_rad_earth_rad'] > 1.5) & (dataset['planet_rad_earth_rad'] <= 2) & (dataset['planet_mass_earth_mass'] >= 2) & (dataset['planet_mass_earth_mass'] < 8)\n",
    "\n",
    "# neptune like exoplanet classification\n",
    "neptune_like_condition = (dataset['planet_rad_earth_rad'] > 2) & (dataset['planet_rad_earth_rad'] <= 6) & (dataset['planet_mass_earth_mass'] >= 8) & (dataset['planet_mass_earth_mass'] < 20)\n",
    "\n",
    "# super-neptune like exoplanet classification\n",
    "super_neptune_like_condition = (dataset['planet_rad_earth_rad'] > 2) & (dataset['planet_rad_earth_rad'] <= 6) & (dataset['planet_mass_earth_mass'] >= 20) & (dataset['planet_mass_earth_mass'] < 80)\n",
    "\n",
    "# saturn like exoplanet classification\n",
    "saturn_like_condition = (dataset['planet_rad_earth_rad'] > 6) & (dataset['planet_rad_earth_rad'] <= 15) & (dataset['planet_mass_earth_mass'] >= 80) & (dataset['planet_mass_earth_mass'] <= 150)\n",
    "\n",
    "# super-saturn Like exoplanet classification\n",
    "super_saturn_like_condition = (dataset['planet_rad_earth_rad'] > 6) & (dataset['planet_rad_earth_rad'] <= 15) & (dataset['planet_mass_earth_mass'] > 150) & (dataset['planet_mass_earth_mass'] < 318)\n",
    "\n",
    "# Jupiter-Like exoplanet classification\n",
    "jupiter_like_condition = (dataset['planet_rad_earth_rad'] > 6) & (dataset['planet_rad_earth_rad'] <= 15) & (dataset['planet_mass_earth_mass'] >= 318) & (dataset['planet_mass_earth_mass'] <= 3180)\n",
    "\n",
    "# Super-Jupiter-Like exoplanet classification\n",
    "super_jupiter_like_condition = (dataset['planet_rad_earth_rad'] > 15) & (dataset['planet_mass_earth_mass'] > 3180)\n",
    "\n",
    "# others exoplanet classification\n",
    "others_condition = (dataset['planet_rad_earth_rad'] >= 0.4) & (dataset['planet_rad_earth_rad'] <= 78) & (dataset['planet_mass_earth_mass'] >= 80) & (dataset['planet_mass_earth_mass'] <= 3180)\n"
   ]
  },
  {
   "cell_type": "code",
   "execution_count": 55,
   "metadata": {},
   "outputs": [],
   "source": [
    "# combine the different conditions\n",
    "combined_conditions = earth_like_condition | super_earth_like_condition | neptune_like_condition | super_neptune_like_condition | saturn_like_condition | super_saturn_like_condition | jupiter_like_condition | super_jupiter_like_condition | others_condition"
   ]
  },
  {
   "cell_type": "code",
   "execution_count": 56,
   "metadata": {},
   "outputs": [
    {
     "data": {
      "text/html": [
       "<div>\n",
       "<style scoped>\n",
       "    .dataframe tbody tr th:only-of-type {\n",
       "        vertical-align: middle;\n",
       "    }\n",
       "\n",
       "    .dataframe tbody tr th {\n",
       "        vertical-align: top;\n",
       "    }\n",
       "\n",
       "    .dataframe thead th {\n",
       "        text-align: right;\n",
       "    }\n",
       "</style>\n",
       "<table border=\"1\" class=\"dataframe\">\n",
       "  <thead>\n",
       "    <tr style=\"text-align: right;\">\n",
       "      <th></th>\n",
       "      <th>planet_name</th>\n",
       "      <th>planet_rad_earth_rad</th>\n",
       "      <th>planet_mass_earth_mass</th>\n",
       "    </tr>\n",
       "  </thead>\n",
       "  <tbody>\n",
       "    <tr>\n",
       "      <th>0</th>\n",
       "      <td>11 Com b</td>\n",
       "      <td>NaN</td>\n",
       "      <td>5505.066163</td>\n",
       "    </tr>\n",
       "    <tr>\n",
       "      <th>1</th>\n",
       "      <td>11 UMi b</td>\n",
       "      <td>NaN</td>\n",
       "      <td>3818.094733</td>\n",
       "    </tr>\n",
       "    <tr>\n",
       "      <th>2</th>\n",
       "      <td>14 And b</td>\n",
       "      <td>NaN</td>\n",
       "      <td>1224.550433</td>\n",
       "    </tr>\n",
       "    <tr>\n",
       "      <th>3</th>\n",
       "      <td>14 Her b</td>\n",
       "      <td>NaN</td>\n",
       "      <td>1642.383591</td>\n",
       "    </tr>\n",
       "    <tr>\n",
       "      <th>4</th>\n",
       "      <td>16 Cyg B b</td>\n",
       "      <td>NaN</td>\n",
       "      <td>533.514528</td>\n",
       "    </tr>\n",
       "    <tr>\n",
       "      <th>...</th>\n",
       "      <td>...</td>\n",
       "      <td>...</td>\n",
       "      <td>...</td>\n",
       "    </tr>\n",
       "    <tr>\n",
       "      <th>5625</th>\n",
       "      <td>ups And b</td>\n",
       "      <td>NaN</td>\n",
       "      <td>219.960419</td>\n",
       "    </tr>\n",
       "    <tr>\n",
       "      <th>5626</th>\n",
       "      <td>ups And c</td>\n",
       "      <td>NaN</td>\n",
       "      <td>1275.328758</td>\n",
       "    </tr>\n",
       "    <tr>\n",
       "      <th>5627</th>\n",
       "      <td>ups And d</td>\n",
       "      <td>NaN</td>\n",
       "      <td>1616.242590</td>\n",
       "    </tr>\n",
       "    <tr>\n",
       "      <th>5628</th>\n",
       "      <td>ups Leo b</td>\n",
       "      <td>NaN</td>\n",
       "      <td>162.092490</td>\n",
       "    </tr>\n",
       "    <tr>\n",
       "      <th>5629</th>\n",
       "      <td>xi Aql b</td>\n",
       "      <td>NaN</td>\n",
       "      <td>716.301647</td>\n",
       "    </tr>\n",
       "  </tbody>\n",
       "</table>\n",
       "<p>4613 rows × 3 columns</p>\n",
       "</div>"
      ],
      "text/plain": [
       "     planet_name  planet_rad_earth_rad  planet_mass_earth_mass\n",
       "0       11 Com b                   NaN             5505.066163\n",
       "1       11 UMi b                   NaN             3818.094733\n",
       "2       14 And b                   NaN             1224.550433\n",
       "3       14 Her b                   NaN             1642.383591\n",
       "4     16 Cyg B b                   NaN              533.514528\n",
       "...          ...                   ...                     ...\n",
       "5625   ups And b                   NaN              219.960419\n",
       "5626   ups And c                   NaN             1275.328758\n",
       "5627   ups And d                   NaN             1616.242590\n",
       "5628   ups Leo b                   NaN              162.092490\n",
       "5629    xi Aql b                   NaN              716.301647\n",
       "\n",
       "[4613 rows x 3 columns]"
      ]
     },
     "execution_count": 56,
     "metadata": {},
     "output_type": "execute_result"
    }
   ],
   "source": [
    "# remove the rows from the dataset that satisfy the condtiions\n",
    "dataset[~combined_conditions]"
   ]
  },
  {
   "cell_type": "code",
   "execution_count": null,
   "metadata": {},
   "outputs": [],
   "source": []
  }
 ],
 "metadata": {
  "kernelspec": {
   "display_name": "DS160",
   "language": "python",
   "name": "python3"
  },
  "language_info": {
   "codemirror_mode": {
    "name": "ipython",
    "version": 3
   },
   "file_extension": ".py",
   "mimetype": "text/x-python",
   "name": "python",
   "nbconvert_exporter": "python",
   "pygments_lexer": "ipython3",
   "version": "3.9.18"
  }
 },
 "nbformat": 4,
 "nbformat_minor": 2
}
